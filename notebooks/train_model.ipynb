{
 "cells": [
  {
   "cell_type": "code",
   "execution_count": null,
   "id": "f274a6ec",
   "metadata": {},
   "outputs": [],
   "source": [
    "import pandas as pd\n",
    "import torch\n",
    "import sys, os\n",
    "sys.path.append(os.path.abspath(\"..\"))\n",
    "from torch.utils.data import DataLoader\n",
    "from transformers import AutoTokenizer\n",
    "from torch import nn, optim\n",
    "from src.data_preprocessing import preprocess_dataframe, get_mlb_labels\n",
    "from src.model import RoBERTaMultiLabelClassifier\n",
    "from src.utils import RedditMentalHealthDataset\n"
   ]
  },
  {
   "cell_type": "code",
   "execution_count": null,
   "id": "517fc52b",
   "metadata": {},
   "outputs": [],
   "source": [
    "# Config\n",
    "EPOCHS = 5\n",
    "BATCH_SIZE = 16\n",
    "LR = 2e-5\n",
    "MAX_LENGTH = 128"
   ]
  },
  {
   "cell_type": "code",
   "execution_count": null,
   "id": "6fb4dcf3",
   "metadata": {},
   "outputs": [],
   "source": [
    "# Load and preprocess data\n",
    "data = pd.read_csv(\"../data/cleaned_paper.csv\")\n",
    "data = preprocess_dataframe(data)\n",
    "disorders = [\"depression\",\"anxiety\",\"OCD\",\"PTSD\",\"autism\",\n",
    "             \"eatingdisorders\",\"adhd\",\"bipolar\",\"schizophrenia\"]\n",
    "mlb, y = get_mlb_labels(data, disorders)\n",
    "\n"
   ]
  },
  {
   "cell_type": "code",
   "execution_count": null,
   "id": "31196a58",
   "metadata": {},
   "outputs": [],
   "source": [
    "# Tokenizer and dataset\n",
    "tokenizer = AutoTokenizer.from_pretrained(\"roberta-base\")\n",
    "train_size = int(0.8 * len(data))\n",
    "train_df = data[:train_size]\n",
    "val_df = data[train_size:]\n",
    "train_ds = RedditMentalHealthDataset(train_df, mlb, tokenizer, MAX_LENGTH)\n",
    "val_ds = RedditMentalHealthDataset(val_df, mlb, tokenizer, MAX_LENGTH)\n",
    "train_loader = DataLoader(train_ds, batch_size=BATCH_SIZE, shuffle=True)\n",
    "val_loader = DataLoader(val_ds, batch_size=BATCH_SIZE)\n",
    "\n"
   ]
  },
  {
   "cell_type": "code",
   "execution_count": null,
   "id": "9c721d70",
   "metadata": {},
   "outputs": [],
   "source": [
    "# Model\n",
    "device = torch.device(\"cuda\" if torch.cuda.is_available() else \"cpu\")\n",
    "model = RoBERTaMultiLabelClassifier(len(mlb.classes_)).to(device)\n",
    "criterion = nn.BCEWithLogitsLoss()\n",
    "optimizer = optim.AdamW(model.parameters(), lr=LR)\n",
    "\n"
   ]
  },
  {
   "cell_type": "code",
   "execution_count": null,
   "id": "fa8c3843",
   "metadata": {},
   "outputs": [],
   "source": [
    "# Training loop\n",
    "best_f1 = 0.0\n",
    "for epoch in range(EPOCHS):\n",
    "    model.train()\n",
    "    for batch in train_loader:\n",
    "        optimizer.zero_grad()\n",
    "        input_ids = batch['input_ids'].to(device)\n",
    "        attention_mask = batch['attention_mask'].to(device)\n",
    "        labels = batch['labels'].to(device)\n",
    "\n",
    "        outputs = model(input_ids, attention_mask)\n",
    "        loss = criterion(outputs, labels)\n",
    "        loss.backward()\n",
    "        optimizer.step()\n",
    "\n",
    "    # Save checkpoint\n",
    "    torch.save(model.state_dict(), f\"../models/best_roberta_multilabel.pt\")\n"
   ]
  }
 ],
 "metadata": {
  "language_info": {
   "name": "python"
  }
 },
 "nbformat": 4,
 "nbformat_minor": 5
}
