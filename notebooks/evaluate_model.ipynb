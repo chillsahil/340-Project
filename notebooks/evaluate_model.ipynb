{
 "cells": [
  {
   "cell_type": "code",
   "execution_count": null,
   "id": "aea2640a",
   "metadata": {},
   "outputs": [],
   "source": [
    "import sys, os\n",
    "sys.path.append(os.path.abspath(\"..\"))\n",
    "import pandas as pd\n",
    "import torch\n",
    "from transformers import AutoTokenizer\n",
    "from torch.utils.data import DataLoader\n",
    "from src.data_preprocessing import preprocess_dataframe, get_mlb_labels\n",
    "from src.model import RoBERTaMultiLabelClassifier\n",
    "from src.utils import RedditMentalHealthDataset, evaluate_model\n",
    "import swifter\n",
    "import time\n",
    "import random\n"
   ]
  },
  {
   "cell_type": "code",
   "execution_count": null,
   "id": "1be241b5",
   "metadata": {},
   "outputs": [],
   "source": [
    "# Config\n",
    "BATCH_SIZE = 16\n",
    "MAX_LENGTH = 128\n"
   ]
  },
  {
   "cell_type": "markdown",
   "id": "19b51293",
   "metadata": {},
   "source": [
    "### This part should take 3-5 minutes, depending on your machine. "
   ]
  },
  {
   "cell_type": "code",
   "execution_count": null,
   "id": "8c344b0a",
   "metadata": {},
   "outputs": [],
   "source": [
    "# Load and preprocess data\n",
    "def preprocess_dataframe_swifter(df):\n",
    "    from src.data_preprocessing import aggressive_clean_text\n",
    "    df['clean_text'] = df['text'].swifter.apply(aggressive_clean_text)\n",
    "    df['labels'] = df['subreddit'].apply(lambda x: [lab.strip() for lab in x.split(',')])\n",
    "    return df\n",
    "\n",
    "data = pd.read_csv(\"../data/cleaned_paper.csv\")\n",
    "data = preprocess_dataframe_swifter(data)\n",
    "disorders = [\"depression\", \"anxiety\", \"OCD\", \"PTSD\", \"autism\",\n",
    "             \"eatingdisorders\", \"adhd\", \"bipolar\", \"schizophrenia\"]\n",
    "mlb, _ = get_mlb_labels(data, disorders)\n"
   ]
  },
  {
   "cell_type": "code",
   "execution_count": null,
   "id": "3c91109f",
   "metadata": {},
   "outputs": [],
   "source": [
    "# Tokenizer and Dataset\n",
    "tokenizer = AutoTokenizer.from_pretrained(\"roberta-base\")\n",
    "full_dataset = RedditMentalHealthDataset(data, mlb, tokenizer, MAX_LENGTH)\n",
    "loader = DataLoader(full_dataset, batch_size=BATCH_SIZE, shuffle=False)\n"
   ]
  },
  {
   "cell_type": "code",
   "execution_count": null,
   "id": "79af9c26",
   "metadata": {},
   "outputs": [],
   "source": [
    "# Load model\n",
    "device = torch.device(\"cuda\" if torch.cuda.is_available() else \"cpu\")\n",
    "model = RoBERTaMultiLabelClassifier(num_labels=len(mlb.classes_)).to(device)\n",
    "model.load_state_dict(torch.load(\"../models/best_roberta_multilabel.pt\", map_location=device))"
   ]
  },
  {
   "cell_type": "code",
   "execution_count": null,
   "id": "eee9cdf9",
   "metadata": {},
   "outputs": [],
   "source": [
    "# Evaluate\n",
    "print(\"\\nEvaluating model on the full dataset...\\n\")\n",
    "start_time = time.time()\n",
    "evaluate_model(model, loader, device, mlb)\n",
    "print(f\"\\nEvaluation completed in {time.time() - start_time:.2f} seconds.\")\n",
    "\n"
   ]
  },
  {
   "cell_type": "code",
   "execution_count": null,
   "id": "ac9001c8",
   "metadata": {},
   "outputs": [],
   "source": [
    "# Example Predictions\n",
    "print(\"\\nExample Predictions:\\n\")\n",
    "sample_indices = random.sample(range(len(data)), 3)\n",
    "model.eval()\n",
    "with torch.no_grad():\n",
    "    for idx in sample_indices:\n",
    "        input_data = full_dataset[idx]\n",
    "        input_ids = input_data[\"input_ids\"].unsqueeze(0).to(device)\n",
    "        attention_mask = input_data[\"attention_mask\"].unsqueeze(0).to(device)\n",
    "        logits = model(input_ids, attention_mask)\n",
    "        probs = torch.sigmoid(logits).cpu().numpy()[0]\n",
    "        preds = [label for i, label in enumerate(mlb.classes_) if probs[i] > 0.5]\n",
    "        true_labels = data.iloc[idx]['labels']\n",
    "\n",
    "        print(f\"Post: {data.iloc[idx]['clean_text'][:200]}...\")\n",
    "        print(f\"True Labels: {true_labels}\")\n",
    "        print(f\"Predicted Labels: {preds}\\n\")"
   ]
  }
 ],
 "metadata": {
  "kernelspec": {
   "display_name": "Python 3",
   "language": "python",
   "name": "python3"
  },
  "language_info": {
   "codemirror_mode": {
    "name": "ipython",
    "version": 3
   },
   "file_extension": ".py",
   "mimetype": "text/x-python",
   "name": "python",
   "nbconvert_exporter": "python",
   "pygments_lexer": "ipython3",
   "version": "3.12.4"
  }
 },
 "nbformat": 4,
 "nbformat_minor": 5
}
