{
 "cells": [
  {
   "cell_type": "code",
   "execution_count": null,
   "id": "08853f99",
   "metadata": {},
   "outputs": [],
   "source": [
    "import torch\n",
    "from transformers import AutoTokenizer\n",
    "import sys, os\n",
    "sys.path.append(os.path.abspath(\"..\"))\n",
    "from src.model import RoBERTaMultiLabelClassifier\n",
    "from src.data_preprocessing import aggressive_clean_text\n",
    "from src.data_preprocessing import get_mlb_labels\n",
    "import pandas as pd\n",
    "import swifter\n",
    "\n",
    "# Load model and tokenizer\n",
    "device = torch.device(\"cuda\" if torch.cuda.is_available() else \"cpu\")\n",
    "tokenizer = AutoTokenizer.from_pretrained(\"roberta-base\")\n",
    "\n",
    "# Load labels and preprocess data\n",
    "def preprocess_dataframe_swifter(df):\n",
    "    from src.data_preprocessing import aggressive_clean_text\n",
    "    df['clean_text'] = df['text'].swifter.apply(aggressive_clean_text)\n",
    "    df['labels'] = df['subreddit'].apply(lambda x: [lab.strip() for lab in x.split(',')])\n",
    "    return df\n",
    "\n",
    "data = pd.read_csv(\"../data/cleaned_paper.csv\")\n",
    "data = preprocess_dataframe_swifter(data)\n",
    "disorders = [\"depression\", \"anxiety\", \"OCD\", \"PTSD\", \"autism\",\n",
    "             \"eatingdisorders\", \"adhd\", \"bipolar\", \"schizophrenia\"]\n",
    "mlb, _ = get_mlb_labels(data, disorders)\n",
    "\n",
    "model = RoBERTaMultiLabelClassifier(num_labels=len(mlb.classes_)).to(device)\n",
    "model.load_state_dict(torch.load(\"../models/best_roberta_multilabel.pt\", map_location=device))\n",
    "model.eval()\n",
    "\n",
    "# Inference Function\n",
    "def predict_labels(text, model, tokenizer, mlb, device, max_length=128):\n",
    "    clean = aggressive_clean_text(text)\n",
    "    tokens = tokenizer(clean, max_length=max_length, truncation=True, padding='max_length', return_tensors='pt')\n",
    "    input_ids = tokens['input_ids'].to(device)\n",
    "    attention_mask = tokens['attention_mask'].to(device)\n",
    "\n",
    "    with torch.no_grad():\n",
    "        logits = model(input_ids, attention_mask)\n",
    "        probs = torch.sigmoid(logits).cpu().numpy()[0]\n",
    "        preds = [label for i, label in enumerate(mlb.classes_) if probs[i] > 0.5]\n",
    "\n",
    "    return clean, preds\n"
   ]
  },
  {
   "cell_type": "markdown",
   "id": "73165bf3",
   "metadata": {},
   "source": [
    "### Run the above module first to initialize the demo. "
   ]
  },
  {
   "cell_type": "code",
   "execution_count": null,
   "id": "18a6067a",
   "metadata": {},
   "outputs": [],
   "source": [
    "\n",
    "# Demo Examples\n",
    "examples = [\n",
    "    \"I can't stop worrying about everything and it's making it hard to sleep.\",\n",
    "    \"I've been feeling hopeless and empty for the past few weeks.\",\n",
    "    \"I get easily distracted and have trouble finishing tasks.\"\n",
    "]\n",
    "\n",
    "for i, text in enumerate(examples):\n",
    "    cleaned, prediction = predict_labels(text, model, tokenizer, mlb, device)\n",
    "    print(f\"\\nExample {i+1}:\")\n",
    "    print(f\"Original Text: {text}\")\n",
    "    print(f\"Cleaned Text: {cleaned}\")\n",
    "    print(f\"Predicted Labels: {prediction}\")"
   ]
  }
 ],
 "metadata": {
  "kernelspec": {
   "display_name": "Python 3",
   "language": "python",
   "name": "python3"
  },
  "language_info": {
   "codemirror_mode": {
    "name": "ipython",
    "version": 3
   },
   "file_extension": ".py",
   "mimetype": "text/x-python",
   "name": "python",
   "nbconvert_exporter": "python",
   "pygments_lexer": "ipython3",
   "version": "3.12.4"
  }
 },
 "nbformat": 4,
 "nbformat_minor": 5
}
